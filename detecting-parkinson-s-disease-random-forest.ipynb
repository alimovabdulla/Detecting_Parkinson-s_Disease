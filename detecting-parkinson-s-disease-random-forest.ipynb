{
 "cells": [
  {
   "cell_type": "code",
   "execution_count": 1,
   "id": "1d5a93e7",
   "metadata": {
    "_cell_guid": "b1076dfc-b9ad-4769-8c92-a6c4dae69d19",
    "_uuid": "8f2839f25d086af736a60e9eeb907d3b93b6e0e5",
    "execution": {
     "iopub.execute_input": "2025-02-06T14:14:35.551217Z",
     "iopub.status.busy": "2025-02-06T14:14:35.550696Z",
     "iopub.status.idle": "2025-02-06T14:14:39.000585Z",
     "shell.execute_reply": "2025-02-06T14:14:38.999348Z"
    },
    "papermill": {
     "duration": 3.459231,
     "end_time": "2025-02-06T14:14:39.002667",
     "exception": false,
     "start_time": "2025-02-06T14:14:35.543436",
     "status": "completed"
    },
    "tags": []
   },
   "outputs": [],
   "source": [
    "import pandas as pd\n",
    "import numpy as np\n",
    "import seaborn as sns\n",
    "import matplotlib.pyplot as plt\n",
    "from sklearn.ensemble import RandomForestClassifier\n",
    "from sklearn.preprocessing import StandardScaler\n",
    "from sklearn.metrics import accuracy_score, classification_report, confusion_matrix\n",
    "from sklearn.pipeline import Pipeline\n",
    "from sklearn.model_selection import train_test_split\n",
    "from sklearn.feature_extraction.text import CountVectorizer"
   ]
  },
  {
   "cell_type": "code",
   "execution_count": 2,
   "id": "2ffa9cb8",
   "metadata": {
    "execution": {
     "iopub.execute_input": "2025-02-06T14:14:39.015223Z",
     "iopub.status.busy": "2025-02-06T14:14:39.014631Z",
     "iopub.status.idle": "2025-02-06T14:14:39.051062Z",
     "shell.execute_reply": "2025-02-06T14:14:39.050128Z"
    },
    "papermill": {
     "duration": 0.044773,
     "end_time": "2025-02-06T14:14:39.053216",
     "exception": false,
     "start_time": "2025-02-06T14:14:39.008443",
     "status": "completed"
    },
    "tags": []
   },
   "outputs": [],
   "source": [
    "data = pd.read_csv(r'/kaggle/input/parkinsons-disease-data-set/parkinsons.data')"
   ]
  },
  {
   "cell_type": "markdown",
   "id": "40d5546b",
   "metadata": {
    "papermill": {
     "duration": 0.005245,
     "end_time": "2025-02-06T14:14:39.064277",
     "exception": false,
     "start_time": "2025-02-06T14:14:39.059032",
     "status": "completed"
    },
    "tags": []
   },
   "source": [
    "# <span style=\"font-weight: bold; font-style: italic; color: green; text-shadow: 2px 2px 4px #000000;\">EDA</span>\n"
   ]
  },
  {
   "cell_type": "code",
   "execution_count": 3,
   "id": "241af316",
   "metadata": {
    "execution": {
     "iopub.execute_input": "2025-02-06T14:14:39.076014Z",
     "iopub.status.busy": "2025-02-06T14:14:39.075504Z",
     "iopub.status.idle": "2025-02-06T14:14:39.108920Z",
     "shell.execute_reply": "2025-02-06T14:14:39.107463Z"
    },
    "papermill": {
     "duration": 0.041294,
     "end_time": "2025-02-06T14:14:39.110765",
     "exception": false,
     "start_time": "2025-02-06T14:14:39.069471",
     "status": "completed"
    },
    "tags": []
   },
   "outputs": [
    {
     "name": "stdout",
     "output_type": "stream",
     "text": [
      "<class 'pandas.core.frame.DataFrame'>\n",
      "RangeIndex: 195 entries, 0 to 194\n",
      "Data columns (total 24 columns):\n",
      " #   Column            Non-Null Count  Dtype  \n",
      "---  ------            --------------  -----  \n",
      " 0   name              195 non-null    object \n",
      " 1   MDVP:Fo(Hz)       195 non-null    float64\n",
      " 2   MDVP:Fhi(Hz)      195 non-null    float64\n",
      " 3   MDVP:Flo(Hz)      195 non-null    float64\n",
      " 4   MDVP:Jitter(%)    195 non-null    float64\n",
      " 5   MDVP:Jitter(Abs)  195 non-null    float64\n",
      " 6   MDVP:RAP          195 non-null    float64\n",
      " 7   MDVP:PPQ          195 non-null    float64\n",
      " 8   Jitter:DDP        195 non-null    float64\n",
      " 9   MDVP:Shimmer      195 non-null    float64\n",
      " 10  MDVP:Shimmer(dB)  195 non-null    float64\n",
      " 11  Shimmer:APQ3      195 non-null    float64\n",
      " 12  Shimmer:APQ5      195 non-null    float64\n",
      " 13  MDVP:APQ          195 non-null    float64\n",
      " 14  Shimmer:DDA       195 non-null    float64\n",
      " 15  NHR               195 non-null    float64\n",
      " 16  HNR               195 non-null    float64\n",
      " 17  status            195 non-null    int64  \n",
      " 18  RPDE              195 non-null    float64\n",
      " 19  DFA               195 non-null    float64\n",
      " 20  spread1           195 non-null    float64\n",
      " 21  spread2           195 non-null    float64\n",
      " 22  D2                195 non-null    float64\n",
      " 23  PPE               195 non-null    float64\n",
      "dtypes: float64(22), int64(1), object(1)\n",
      "memory usage: 36.7+ KB\n"
     ]
    }
   ],
   "source": [
    "data.info()"
   ]
  },
  {
   "cell_type": "code",
   "execution_count": 4,
   "id": "31eefd19",
   "metadata": {
    "execution": {
     "iopub.execute_input": "2025-02-06T14:14:39.122907Z",
     "iopub.status.busy": "2025-02-06T14:14:39.122490Z",
     "iopub.status.idle": "2025-02-06T14:14:39.191352Z",
     "shell.execute_reply": "2025-02-06T14:14:39.190274Z"
    },
    "papermill": {
     "duration": 0.077188,
     "end_time": "2025-02-06T14:14:39.193472",
     "exception": false,
     "start_time": "2025-02-06T14:14:39.116284",
     "status": "completed"
    },
    "tags": []
   },
   "outputs": [
    {
     "data": {
      "text/html": [
       "<div>\n",
       "<style scoped>\n",
       "    .dataframe tbody tr th:only-of-type {\n",
       "        vertical-align: middle;\n",
       "    }\n",
       "\n",
       "    .dataframe tbody tr th {\n",
       "        vertical-align: top;\n",
       "    }\n",
       "\n",
       "    .dataframe thead th {\n",
       "        text-align: right;\n",
       "    }\n",
       "</style>\n",
       "<table border=\"1\" class=\"dataframe\">\n",
       "  <thead>\n",
       "    <tr style=\"text-align: right;\">\n",
       "      <th></th>\n",
       "      <th>MDVP:Fo(Hz)</th>\n",
       "      <th>MDVP:Fhi(Hz)</th>\n",
       "      <th>MDVP:Flo(Hz)</th>\n",
       "      <th>MDVP:Jitter(%)</th>\n",
       "      <th>MDVP:Jitter(Abs)</th>\n",
       "      <th>MDVP:RAP</th>\n",
       "      <th>MDVP:PPQ</th>\n",
       "      <th>Jitter:DDP</th>\n",
       "      <th>MDVP:Shimmer</th>\n",
       "      <th>MDVP:Shimmer(dB)</th>\n",
       "      <th>...</th>\n",
       "      <th>Shimmer:DDA</th>\n",
       "      <th>NHR</th>\n",
       "      <th>HNR</th>\n",
       "      <th>status</th>\n",
       "      <th>RPDE</th>\n",
       "      <th>DFA</th>\n",
       "      <th>spread1</th>\n",
       "      <th>spread2</th>\n",
       "      <th>D2</th>\n",
       "      <th>PPE</th>\n",
       "    </tr>\n",
       "  </thead>\n",
       "  <tbody>\n",
       "    <tr>\n",
       "      <th>count</th>\n",
       "      <td>195.000000</td>\n",
       "      <td>195.000000</td>\n",
       "      <td>195.000000</td>\n",
       "      <td>195.000000</td>\n",
       "      <td>195.000000</td>\n",
       "      <td>195.000000</td>\n",
       "      <td>195.000000</td>\n",
       "      <td>195.000000</td>\n",
       "      <td>195.000000</td>\n",
       "      <td>195.000000</td>\n",
       "      <td>...</td>\n",
       "      <td>195.000000</td>\n",
       "      <td>195.000000</td>\n",
       "      <td>195.000000</td>\n",
       "      <td>195.000000</td>\n",
       "      <td>195.000000</td>\n",
       "      <td>195.000000</td>\n",
       "      <td>195.000000</td>\n",
       "      <td>195.000000</td>\n",
       "      <td>195.000000</td>\n",
       "      <td>195.000000</td>\n",
       "    </tr>\n",
       "    <tr>\n",
       "      <th>mean</th>\n",
       "      <td>154.228641</td>\n",
       "      <td>197.104918</td>\n",
       "      <td>116.324631</td>\n",
       "      <td>0.006220</td>\n",
       "      <td>0.000044</td>\n",
       "      <td>0.003306</td>\n",
       "      <td>0.003446</td>\n",
       "      <td>0.009920</td>\n",
       "      <td>0.029709</td>\n",
       "      <td>0.282251</td>\n",
       "      <td>...</td>\n",
       "      <td>0.046993</td>\n",
       "      <td>0.024847</td>\n",
       "      <td>21.885974</td>\n",
       "      <td>0.753846</td>\n",
       "      <td>0.498536</td>\n",
       "      <td>0.718099</td>\n",
       "      <td>-5.684397</td>\n",
       "      <td>0.226510</td>\n",
       "      <td>2.381826</td>\n",
       "      <td>0.206552</td>\n",
       "    </tr>\n",
       "    <tr>\n",
       "      <th>std</th>\n",
       "      <td>41.390065</td>\n",
       "      <td>91.491548</td>\n",
       "      <td>43.521413</td>\n",
       "      <td>0.004848</td>\n",
       "      <td>0.000035</td>\n",
       "      <td>0.002968</td>\n",
       "      <td>0.002759</td>\n",
       "      <td>0.008903</td>\n",
       "      <td>0.018857</td>\n",
       "      <td>0.194877</td>\n",
       "      <td>...</td>\n",
       "      <td>0.030459</td>\n",
       "      <td>0.040418</td>\n",
       "      <td>4.425764</td>\n",
       "      <td>0.431878</td>\n",
       "      <td>0.103942</td>\n",
       "      <td>0.055336</td>\n",
       "      <td>1.090208</td>\n",
       "      <td>0.083406</td>\n",
       "      <td>0.382799</td>\n",
       "      <td>0.090119</td>\n",
       "    </tr>\n",
       "    <tr>\n",
       "      <th>min</th>\n",
       "      <td>88.333000</td>\n",
       "      <td>102.145000</td>\n",
       "      <td>65.476000</td>\n",
       "      <td>0.001680</td>\n",
       "      <td>0.000007</td>\n",
       "      <td>0.000680</td>\n",
       "      <td>0.000920</td>\n",
       "      <td>0.002040</td>\n",
       "      <td>0.009540</td>\n",
       "      <td>0.085000</td>\n",
       "      <td>...</td>\n",
       "      <td>0.013640</td>\n",
       "      <td>0.000650</td>\n",
       "      <td>8.441000</td>\n",
       "      <td>0.000000</td>\n",
       "      <td>0.256570</td>\n",
       "      <td>0.574282</td>\n",
       "      <td>-7.964984</td>\n",
       "      <td>0.006274</td>\n",
       "      <td>1.423287</td>\n",
       "      <td>0.044539</td>\n",
       "    </tr>\n",
       "    <tr>\n",
       "      <th>25%</th>\n",
       "      <td>117.572000</td>\n",
       "      <td>134.862500</td>\n",
       "      <td>84.291000</td>\n",
       "      <td>0.003460</td>\n",
       "      <td>0.000020</td>\n",
       "      <td>0.001660</td>\n",
       "      <td>0.001860</td>\n",
       "      <td>0.004985</td>\n",
       "      <td>0.016505</td>\n",
       "      <td>0.148500</td>\n",
       "      <td>...</td>\n",
       "      <td>0.024735</td>\n",
       "      <td>0.005925</td>\n",
       "      <td>19.198000</td>\n",
       "      <td>1.000000</td>\n",
       "      <td>0.421306</td>\n",
       "      <td>0.674758</td>\n",
       "      <td>-6.450096</td>\n",
       "      <td>0.174351</td>\n",
       "      <td>2.099125</td>\n",
       "      <td>0.137451</td>\n",
       "    </tr>\n",
       "    <tr>\n",
       "      <th>50%</th>\n",
       "      <td>148.790000</td>\n",
       "      <td>175.829000</td>\n",
       "      <td>104.315000</td>\n",
       "      <td>0.004940</td>\n",
       "      <td>0.000030</td>\n",
       "      <td>0.002500</td>\n",
       "      <td>0.002690</td>\n",
       "      <td>0.007490</td>\n",
       "      <td>0.022970</td>\n",
       "      <td>0.221000</td>\n",
       "      <td>...</td>\n",
       "      <td>0.038360</td>\n",
       "      <td>0.011660</td>\n",
       "      <td>22.085000</td>\n",
       "      <td>1.000000</td>\n",
       "      <td>0.495954</td>\n",
       "      <td>0.722254</td>\n",
       "      <td>-5.720868</td>\n",
       "      <td>0.218885</td>\n",
       "      <td>2.361532</td>\n",
       "      <td>0.194052</td>\n",
       "    </tr>\n",
       "    <tr>\n",
       "      <th>75%</th>\n",
       "      <td>182.769000</td>\n",
       "      <td>224.205500</td>\n",
       "      <td>140.018500</td>\n",
       "      <td>0.007365</td>\n",
       "      <td>0.000060</td>\n",
       "      <td>0.003835</td>\n",
       "      <td>0.003955</td>\n",
       "      <td>0.011505</td>\n",
       "      <td>0.037885</td>\n",
       "      <td>0.350000</td>\n",
       "      <td>...</td>\n",
       "      <td>0.060795</td>\n",
       "      <td>0.025640</td>\n",
       "      <td>25.075500</td>\n",
       "      <td>1.000000</td>\n",
       "      <td>0.587562</td>\n",
       "      <td>0.761881</td>\n",
       "      <td>-5.046192</td>\n",
       "      <td>0.279234</td>\n",
       "      <td>2.636456</td>\n",
       "      <td>0.252980</td>\n",
       "    </tr>\n",
       "    <tr>\n",
       "      <th>max</th>\n",
       "      <td>260.105000</td>\n",
       "      <td>592.030000</td>\n",
       "      <td>239.170000</td>\n",
       "      <td>0.033160</td>\n",
       "      <td>0.000260</td>\n",
       "      <td>0.021440</td>\n",
       "      <td>0.019580</td>\n",
       "      <td>0.064330</td>\n",
       "      <td>0.119080</td>\n",
       "      <td>1.302000</td>\n",
       "      <td>...</td>\n",
       "      <td>0.169420</td>\n",
       "      <td>0.314820</td>\n",
       "      <td>33.047000</td>\n",
       "      <td>1.000000</td>\n",
       "      <td>0.685151</td>\n",
       "      <td>0.825288</td>\n",
       "      <td>-2.434031</td>\n",
       "      <td>0.450493</td>\n",
       "      <td>3.671155</td>\n",
       "      <td>0.527367</td>\n",
       "    </tr>\n",
       "  </tbody>\n",
       "</table>\n",
       "<p>8 rows × 23 columns</p>\n",
       "</div>"
      ],
      "text/plain": [
       "       MDVP:Fo(Hz)  MDVP:Fhi(Hz)  MDVP:Flo(Hz)  MDVP:Jitter(%)  \\\n",
       "count   195.000000    195.000000    195.000000      195.000000   \n",
       "mean    154.228641    197.104918    116.324631        0.006220   \n",
       "std      41.390065     91.491548     43.521413        0.004848   \n",
       "min      88.333000    102.145000     65.476000        0.001680   \n",
       "25%     117.572000    134.862500     84.291000        0.003460   \n",
       "50%     148.790000    175.829000    104.315000        0.004940   \n",
       "75%     182.769000    224.205500    140.018500        0.007365   \n",
       "max     260.105000    592.030000    239.170000        0.033160   \n",
       "\n",
       "       MDVP:Jitter(Abs)    MDVP:RAP    MDVP:PPQ  Jitter:DDP  MDVP:Shimmer  \\\n",
       "count        195.000000  195.000000  195.000000  195.000000    195.000000   \n",
       "mean           0.000044    0.003306    0.003446    0.009920      0.029709   \n",
       "std            0.000035    0.002968    0.002759    0.008903      0.018857   \n",
       "min            0.000007    0.000680    0.000920    0.002040      0.009540   \n",
       "25%            0.000020    0.001660    0.001860    0.004985      0.016505   \n",
       "50%            0.000030    0.002500    0.002690    0.007490      0.022970   \n",
       "75%            0.000060    0.003835    0.003955    0.011505      0.037885   \n",
       "max            0.000260    0.021440    0.019580    0.064330      0.119080   \n",
       "\n",
       "       MDVP:Shimmer(dB)  ...  Shimmer:DDA         NHR         HNR      status  \\\n",
       "count        195.000000  ...   195.000000  195.000000  195.000000  195.000000   \n",
       "mean           0.282251  ...     0.046993    0.024847   21.885974    0.753846   \n",
       "std            0.194877  ...     0.030459    0.040418    4.425764    0.431878   \n",
       "min            0.085000  ...     0.013640    0.000650    8.441000    0.000000   \n",
       "25%            0.148500  ...     0.024735    0.005925   19.198000    1.000000   \n",
       "50%            0.221000  ...     0.038360    0.011660   22.085000    1.000000   \n",
       "75%            0.350000  ...     0.060795    0.025640   25.075500    1.000000   \n",
       "max            1.302000  ...     0.169420    0.314820   33.047000    1.000000   \n",
       "\n",
       "             RPDE         DFA     spread1     spread2          D2         PPE  \n",
       "count  195.000000  195.000000  195.000000  195.000000  195.000000  195.000000  \n",
       "mean     0.498536    0.718099   -5.684397    0.226510    2.381826    0.206552  \n",
       "std      0.103942    0.055336    1.090208    0.083406    0.382799    0.090119  \n",
       "min      0.256570    0.574282   -7.964984    0.006274    1.423287    0.044539  \n",
       "25%      0.421306    0.674758   -6.450096    0.174351    2.099125    0.137451  \n",
       "50%      0.495954    0.722254   -5.720868    0.218885    2.361532    0.194052  \n",
       "75%      0.587562    0.761881   -5.046192    0.279234    2.636456    0.252980  \n",
       "max      0.685151    0.825288   -2.434031    0.450493    3.671155    0.527367  \n",
       "\n",
       "[8 rows x 23 columns]"
      ]
     },
     "execution_count": 4,
     "metadata": {},
     "output_type": "execute_result"
    }
   ],
   "source": [
    "data.describe()"
   ]
  },
  {
   "cell_type": "code",
   "execution_count": 5,
   "id": "0d557f61",
   "metadata": {
    "execution": {
     "iopub.execute_input": "2025-02-06T14:14:39.206977Z",
     "iopub.status.busy": "2025-02-06T14:14:39.206553Z",
     "iopub.status.idle": "2025-02-06T14:14:39.812475Z",
     "shell.execute_reply": "2025-02-06T14:14:39.811225Z"
    },
    "papermill": {
     "duration": 0.614502,
     "end_time": "2025-02-06T14:14:39.814284",
     "exception": false,
     "start_time": "2025-02-06T14:14:39.199782",
     "status": "completed"
    },
    "tags": []
   },
   "outputs": [
    {
     "data": {
      "image/png": "[encoded data removed]",
      "text/plain": [
       "<Figure size 640x480 with 1 Axes>"
      ]
     },
     "metadata": {},
     "output_type": "display_data"
    }
   ],
   "source": [
    "sns.boxplot(data)\n",
    "plt.show()"
   ]
  },
  {
   "cell_type": "code",
   "execution_count": 6,
   "id": "a0e1745d",
   "metadata": {
    "execution": {
     "iopub.execute_input": "2025-02-06T14:14:39.829130Z",
     "iopub.status.busy": "2025-02-06T14:14:39.828718Z",
     "iopub.status.idle": "2025-02-06T14:14:39.852994Z",
     "shell.execute_reply": "2025-02-06T14:14:39.851884Z"
    },
    "papermill": {
     "duration": 0.033776,
     "end_time": "2025-02-06T14:14:39.854909",
     "exception": false,
     "start_time": "2025-02-06T14:14:39.821133",
     "status": "completed"
    },
    "tags": []
   },
   "outputs": [
    {
     "data": {
      "text/html": [
       "<div>\n",
       "<style scoped>\n",
       "    .dataframe tbody tr th:only-of-type {\n",
       "        vertical-align: middle;\n",
       "    }\n",
       "\n",
       "    .dataframe tbody tr th {\n",
       "        vertical-align: top;\n",
       "    }\n",
       "\n",
       "    .dataframe thead th {\n",
       "        text-align: right;\n",
       "    }\n",
       "</style>\n",
       "<table border=\"1\" class=\"dataframe\">\n",
       "  <thead>\n",
       "    <tr style=\"text-align: right;\">\n",
       "      <th></th>\n",
       "      <th>name</th>\n",
       "      <th>MDVP:Fo(Hz)</th>\n",
       "      <th>MDVP:Fhi(Hz)</th>\n",
       "      <th>MDVP:Flo(Hz)</th>\n",
       "      <th>MDVP:Jitter(%)</th>\n",
       "      <th>MDVP:Jitter(Abs)</th>\n",
       "      <th>MDVP:RAP</th>\n",
       "      <th>MDVP:PPQ</th>\n",
       "      <th>Jitter:DDP</th>\n",
       "      <th>MDVP:Shimmer</th>\n",
       "      <th>...</th>\n",
       "      <th>Shimmer:DDA</th>\n",
       "      <th>NHR</th>\n",
       "      <th>HNR</th>\n",
       "      <th>status</th>\n",
       "      <th>RPDE</th>\n",
       "      <th>DFA</th>\n",
       "      <th>spread1</th>\n",
       "      <th>spread2</th>\n",
       "      <th>D2</th>\n",
       "      <th>PPE</th>\n",
       "    </tr>\n",
       "  </thead>\n",
       "  <tbody>\n",
       "    <tr>\n",
       "      <th>0</th>\n",
       "      <td>phon_R01_S01_1</td>\n",
       "      <td>119.992</td>\n",
       "      <td>157.302</td>\n",
       "      <td>74.997</td>\n",
       "      <td>0.00784</td>\n",
       "      <td>0.00007</td>\n",
       "      <td>0.00370</td>\n",
       "      <td>0.00554</td>\n",
       "      <td>0.01109</td>\n",
       "      <td>0.04374</td>\n",
       "      <td>...</td>\n",
       "      <td>0.06545</td>\n",
       "      <td>0.02211</td>\n",
       "      <td>21.033</td>\n",
       "      <td>1</td>\n",
       "      <td>0.414783</td>\n",
       "      <td>0.815285</td>\n",
       "      <td>-4.813031</td>\n",
       "      <td>0.266482</td>\n",
       "      <td>2.301442</td>\n",
       "      <td>0.284654</td>\n",
       "    </tr>\n",
       "    <tr>\n",
       "      <th>1</th>\n",
       "      <td>phon_R01_S01_2</td>\n",
       "      <td>122.400</td>\n",
       "      <td>148.650</td>\n",
       "      <td>113.819</td>\n",
       "      <td>0.00968</td>\n",
       "      <td>0.00008</td>\n",
       "      <td>0.00465</td>\n",
       "      <td>0.00696</td>\n",
       "      <td>0.01394</td>\n",
       "      <td>0.06134</td>\n",
       "      <td>...</td>\n",
       "      <td>0.09403</td>\n",
       "      <td>0.01929</td>\n",
       "      <td>19.085</td>\n",
       "      <td>1</td>\n",
       "      <td>0.458359</td>\n",
       "      <td>0.819521</td>\n",
       "      <td>-4.075192</td>\n",
       "      <td>0.335590</td>\n",
       "      <td>2.486855</td>\n",
       "      <td>0.368674</td>\n",
       "    </tr>\n",
       "    <tr>\n",
       "      <th>2</th>\n",
       "      <td>phon_R01_S01_3</td>\n",
       "      <td>116.682</td>\n",
       "      <td>131.111</td>\n",
       "      <td>111.555</td>\n",
       "      <td>0.01050</td>\n",
       "      <td>0.00009</td>\n",
       "      <td>0.00544</td>\n",
       "      <td>0.00781</td>\n",
       "      <td>0.01633</td>\n",
       "      <td>0.05233</td>\n",
       "      <td>...</td>\n",
       "      <td>0.08270</td>\n",
       "      <td>0.01309</td>\n",
       "      <td>20.651</td>\n",
       "      <td>1</td>\n",
       "      <td>0.429895</td>\n",
       "      <td>0.825288</td>\n",
       "      <td>-4.443179</td>\n",
       "      <td>0.311173</td>\n",
       "      <td>2.342259</td>\n",
       "      <td>0.332634</td>\n",
       "    </tr>\n",
       "    <tr>\n",
       "      <th>3</th>\n",
       "      <td>phon_R01_S01_4</td>\n",
       "      <td>116.676</td>\n",
       "      <td>137.871</td>\n",
       "      <td>111.366</td>\n",
       "      <td>0.00997</td>\n",
       "      <td>0.00009</td>\n",
       "      <td>0.00502</td>\n",
       "      <td>0.00698</td>\n",
       "      <td>0.01505</td>\n",
       "      <td>0.05492</td>\n",
       "      <td>...</td>\n",
       "      <td>0.08771</td>\n",
       "      <td>0.01353</td>\n",
       "      <td>20.644</td>\n",
       "      <td>1</td>\n",
       "      <td>0.434969</td>\n",
       "      <td>0.819235</td>\n",
       "      <td>-4.117501</td>\n",
       "      <td>0.334147</td>\n",
       "      <td>2.405554</td>\n",
       "      <td>0.368975</td>\n",
       "    </tr>\n",
       "    <tr>\n",
       "      <th>4</th>\n",
       "      <td>phon_R01_S01_5</td>\n",
       "      <td>116.014</td>\n",
       "      <td>141.781</td>\n",
       "      <td>110.655</td>\n",
       "      <td>0.01284</td>\n",
       "      <td>0.00011</td>\n",
       "      <td>0.00655</td>\n",
       "      <td>0.00908</td>\n",
       "      <td>0.01966</td>\n",
       "      <td>0.06425</td>\n",
       "      <td>...</td>\n",
       "      <td>0.10470</td>\n",
       "      <td>0.01767</td>\n",
       "      <td>19.649</td>\n",
       "      <td>1</td>\n",
       "      <td>0.417356</td>\n",
       "      <td>0.823484</td>\n",
       "      <td>-3.747787</td>\n",
       "      <td>0.234513</td>\n",
       "      <td>2.332180</td>\n",
       "      <td>0.410335</td>\n",
       "    </tr>\n",
       "  </tbody>\n",
       "</table>\n",
       "<p>5 rows × 24 columns</p>\n",
       "</div>"
      ],
      "text/plain": [
       "             name  MDVP:Fo(Hz)  MDVP:Fhi(Hz)  MDVP:Flo(Hz)  MDVP:Jitter(%)  \\\n",
       "0  phon_R01_S01_1      119.992       157.302        74.997         0.00784   \n",
       "1  phon_R01_S01_2      122.400       148.650       113.819         0.00968   \n",
       "2  phon_R01_S01_3      116.682       131.111       111.555         0.01050   \n",
       "3  phon_R01_S01_4      116.676       137.871       111.366         0.00997   \n",
       "4  phon_R01_S01_5      116.014       141.781       110.655         0.01284   \n",
       "\n",
       "   MDVP:Jitter(Abs)  MDVP:RAP  MDVP:PPQ  Jitter:DDP  MDVP:Shimmer  ...  \\\n",
       "0           0.00007   0.00370   0.00554     0.01109       0.04374  ...   \n",
       "1           0.00008   0.00465   0.00696     0.01394       0.06134  ...   \n",
       "2           0.00009   0.00544   0.00781     0.01633       0.05233  ...   \n",
       "3           0.00009   0.00502   0.00698     0.01505       0.05492  ...   \n",
       "4           0.00011   0.00655   0.00908     0.01966       0.06425  ...   \n",
       "\n",
       "   Shimmer:DDA      NHR     HNR  status      RPDE       DFA   spread1  \\\n",
       "0      0.06545  0.02211  21.033       1  0.414783  0.815285 -4.813031   \n",
       "1      0.09403  0.01929  19.085       1  0.458359  0.819521 -4.075192   \n",
       "2      0.08270  0.01309  20.651       1  0.429895  0.825288 -4.443179   \n",
       "3      0.08771  0.01353  20.644       1  0.434969  0.819235 -4.117501   \n",
       "4      0.10470  0.01767  19.649       1  0.417356  0.823484 -3.747787   \n",
       "\n",
       "    spread2        D2       PPE  \n",
       "0  0.266482  2.301442  0.284654  \n",
       "1  0.335590  2.486855  0.368674  \n",
       "2  0.311173  2.342259  0.332634  \n",
       "3  0.334147  2.405554  0.368975  \n",
       "4  0.234513  2.332180  0.410335  \n",
       "\n",
       "[5 rows x 24 columns]"
      ]
     },
     "execution_count": 6,
     "metadata": {},
     "output_type": "execute_result"
    }
   ],
   "source": [
    "data.head(5)"
   ]
  },
  {
   "cell_type": "markdown",
   "id": "7507360b",
   "metadata": {
    "papermill": {
     "duration": 0.006524,
     "end_time": "2025-02-06T14:14:39.868481",
     "exception": false,
     "start_time": "2025-02-06T14:14:39.861957",
     "status": "completed"
    },
    "tags": []
   },
   "source": [
    "# <span style=\"font-weight: bold; font-style: italic; color: green; text-shadow: 2px 2px 4px #000000;\">Data Preparation</span>\n"
   ]
  },
  {
   "cell_type": "code",
   "execution_count": 7,
   "id": "a61f75b3",
   "metadata": {
    "execution": {
     "iopub.execute_input": "2025-02-06T14:14:39.883356Z",
     "iopub.status.busy": "2025-02-06T14:14:39.882990Z",
     "iopub.status.idle": "2025-02-06T14:14:39.889158Z",
     "shell.execute_reply": "2025-02-06T14:14:39.887889Z"
    },
    "papermill": {
     "duration": 0.015982,
     "end_time": "2025-02-06T14:14:39.891203",
     "exception": false,
     "start_time": "2025-02-06T14:14:39.875221",
     "status": "completed"
    },
    "tags": []
   },
   "outputs": [],
   "source": [
    "data = data.drop(columns='name')"
   ]
  },
  {
   "cell_type": "code",
   "execution_count": 8,
   "id": "023e21b4",
   "metadata": {
    "execution": {
     "iopub.execute_input": "2025-02-06T14:14:39.907635Z",
     "iopub.status.busy": "2025-02-06T14:14:39.907273Z",
     "iopub.status.idle": "2025-02-06T14:14:39.912524Z",
     "shell.execute_reply": "2025-02-06T14:14:39.911503Z"
    },
    "papermill": {
     "duration": 0.015248,
     "end_time": "2025-02-06T14:14:39.914257",
     "exception": false,
     "start_time": "2025-02-06T14:14:39.899009",
     "status": "completed"
    },
    "tags": []
   },
   "outputs": [],
   "source": [
    "def vectorizer(df):\n",
    "    vc = CountVectorizer()\n",
    "    for col in df.columns:\n",
    "        if df[col].dtype == 'object':\n",
    "            df[col] = vc.fit_transform(df[col]).toarray()\n",
    "            \n",
    "    return df"
   ]
  },
  {
   "cell_type": "code",
   "execution_count": 9,
   "id": "ae18a1e6",
   "metadata": {
    "execution": {
     "iopub.execute_input": "2025-02-06T14:14:39.929575Z",
     "iopub.status.busy": "2025-02-06T14:14:39.929223Z",
     "iopub.status.idle": "2025-02-06T14:14:39.935022Z",
     "shell.execute_reply": "2025-02-06T14:14:39.933792Z"
    },
    "papermill": {
     "duration": 0.01582,
     "end_time": "2025-02-06T14:14:39.937113",
     "exception": false,
     "start_time": "2025-02-06T14:14:39.921293",
     "status": "completed"
    },
    "tags": []
   },
   "outputs": [],
   "source": [
    "data = vectorizer(data)"
   ]
  },
  {
   "cell_type": "code",
   "execution_count": 10,
   "id": "dc19234d",
   "metadata": {
    "execution": {
     "iopub.execute_input": "2025-02-06T14:14:39.953444Z",
     "iopub.status.busy": "2025-02-06T14:14:39.953062Z",
     "iopub.status.idle": "2025-02-06T14:14:39.957275Z",
     "shell.execute_reply": "2025-02-06T14:14:39.955890Z"
    },
    "papermill": {
     "duration": 0.014699,
     "end_time": "2025-02-06T14:14:39.959123",
     "exception": false,
     "start_time": "2025-02-06T14:14:39.944424",
     "status": "completed"
    },
    "tags": []
   },
   "outputs": [],
   "source": [
    "# def normalizer(data):\n",
    "#     Q1 = data.quantile(0.25)\n",
    "#     Q3 = data.quantile(0.75)\n",
    "#     IQR = Q3 - Q1\n",
    "#     upper_bound = Q3 + 1.5 * IQR\n",
    "#     lower_bound = Q1 - 1.5 * IQR\n",
    "#     for col in data.columns:\n",
    "#         data[col] = data[col].apply(lambda x:upper_bound[col] if x > upper_bound[col] else (lower_bound[col] if x < lower_bound[col] else x))\n",
    "#     return data"
   ]
  },
  {
   "cell_type": "code",
   "execution_count": 11,
   "id": "c95d4769",
   "metadata": {
    "execution": {
     "iopub.execute_input": "2025-02-06T14:14:39.974475Z",
     "iopub.status.busy": "2025-02-06T14:14:39.974097Z",
     "iopub.status.idle": "2025-02-06T14:14:39.978189Z",
     "shell.execute_reply": "2025-02-06T14:14:39.977123Z"
    },
    "papermill": {
     "duration": 0.013585,
     "end_time": "2025-02-06T14:14:39.979976",
     "exception": false,
     "start_time": "2025-02-06T14:14:39.966391",
     "status": "completed"
    },
    "tags": []
   },
   "outputs": [],
   "source": [
    "# data = normalizer(data)"
   ]
  },
  {
   "cell_type": "markdown",
   "id": "3f7d3a89",
   "metadata": {
    "papermill": {
     "duration": 0.006469,
     "end_time": "2025-02-06T14:14:39.993701",
     "exception": false,
     "start_time": "2025-02-06T14:14:39.987232",
     "status": "completed"
    },
    "tags": []
   },
   "source": [
    "# <span style=\"font-weight: bold; font-style: italic; color: green; text-shadow: 2px 2px 4px #000000;\">Model Building</span>\n"
   ]
  },
  {
   "cell_type": "code",
   "execution_count": 12,
   "id": "d14512b1",
   "metadata": {
    "execution": {
     "iopub.execute_input": "2025-02-06T14:14:40.009383Z",
     "iopub.status.busy": "2025-02-06T14:14:40.008856Z",
     "iopub.status.idle": "2025-02-06T14:14:40.014515Z",
     "shell.execute_reply": "2025-02-06T14:14:40.013246Z"
    },
    "papermill": {
     "duration": 0.015981,
     "end_time": "2025-02-06T14:14:40.016587",
     "exception": false,
     "start_time": "2025-02-06T14:14:40.000606",
     "status": "completed"
    },
    "tags": []
   },
   "outputs": [],
   "source": [
    "X = data.drop(columns='status')\n",
    "y = data['status']"
   ]
  },
  {
   "cell_type": "code",
   "execution_count": 13,
   "id": "e72ea208",
   "metadata": {
    "execution": {
     "iopub.execute_input": "2025-02-06T14:14:40.031897Z",
     "iopub.status.busy": "2025-02-06T14:14:40.031443Z",
     "iopub.status.idle": "2025-02-06T14:14:40.039964Z",
     "shell.execute_reply": "2025-02-06T14:14:40.038852Z"
    },
    "papermill": {
     "duration": 0.018236,
     "end_time": "2025-02-06T14:14:40.041851",
     "exception": false,
     "start_time": "2025-02-06T14:14:40.023615",
     "status": "completed"
    },
    "tags": []
   },
   "outputs": [],
   "source": [
    "X_train, X_test, y_train, y_test = train_test_split(X,y,test_size=0.2, stratify=y, random_state=42)"
   ]
  },
  {
   "cell_type": "code",
   "execution_count": 14,
   "id": "dc9761d1",
   "metadata": {
    "execution": {
     "iopub.execute_input": "2025-02-06T14:14:40.056900Z",
     "iopub.status.busy": "2025-02-06T14:14:40.056429Z",
     "iopub.status.idle": "2025-02-06T14:14:40.061260Z",
     "shell.execute_reply": "2025-02-06T14:14:40.060121Z"
    },
    "papermill": {
     "duration": 0.014491,
     "end_time": "2025-02-06T14:14:40.063158",
     "exception": false,
     "start_time": "2025-02-06T14:14:40.048667",
     "status": "completed"
    },
    "tags": []
   },
   "outputs": [],
   "source": [
    "model = Pipeline([('scaler', StandardScaler()), ('model', RandomForestClassifier())])"
   ]
  },
  {
   "cell_type": "code",
   "execution_count": 15,
   "id": "322b4880",
   "metadata": {
    "execution": {
     "iopub.execute_input": "2025-02-06T14:14:40.078667Z",
     "iopub.status.busy": "2025-02-06T14:14:40.078292Z",
     "iopub.status.idle": "2025-02-06T14:14:40.259724Z",
     "shell.execute_reply": "2025-02-06T14:14:40.258511Z"
    },
    "papermill": {
     "duration": 0.191351,
     "end_time": "2025-02-06T14:14:40.261601",
     "exception": false,
     "start_time": "2025-02-06T14:14:40.070250",
     "status": "completed"
    },
    "tags": []
   },
   "outputs": [
    {
     "data": {
      "text/html": [
       "<style>#sk-container-id-1 {color: black;background-color: white;}#sk-container-id-1 pre{padding: 0;}#sk-container-id-1 div.sk-toggleable {background-color: white;}#sk-container-id-1 label.sk-toggleable__label {cursor: pointer;display: block;width: 100%;margin-bottom: 0;padding: 0.3em;box-sizing: border-box;text-align: center;}#sk-container-id-1 label.sk-toggleable__label-arrow:before {content: \"▸\";float: left;margin-right: 0.25em;color: #696969;}#sk-container-id-1 label.sk-toggleable__label-arrow:hover:before {color: black;}#sk-container-id-1 div.sk-estimator:hover label.sk-toggleable__label-arrow:before {color: black;}#sk-container-id-1 div.sk-toggleable__content {max-height: 0;max-width: 0;overflow: hidden;text-align: left;background-color: #f0f8ff;}#sk-container-id-1 div.sk-toggleable__content pre {margin: 0.2em;color: black;border-radius: 0.25em;background-color: #f0f8ff;}#sk-container-id-1 input.sk-toggleable__control:checked~div.sk-toggleable__content {max-height: 200px;max-width: 100%;overflow: auto;}#sk-container-id-1 input.sk-toggleable__control:checked~label.sk-toggleable__label-arrow:before {content: \"▾\";}#sk-container-id-1 div.sk-estimator input.sk-toggleable__control:checked~label.sk-toggleable__label {background-color: #d4ebff;}#sk-container-id-1 div.sk-label input.sk-toggleable__control:checked~label.sk-toggleable__label {background-color: #d4ebff;}#sk-container-id-1 input.sk-hidden--visually {border: 0;clip: rect(1px 1px 1px 1px);clip: rect(1px, 1px, 1px, 1px);height: 1px;margin: -1px;overflow: hidden;padding: 0;position: absolute;width: 1px;}#sk-container-id-1 div.sk-estimator {font-family: monospace;background-color: #f0f8ff;border: 1px dotted black;border-radius: 0.25em;box-sizing: border-box;margin-bottom: 0.5em;}#sk-container-id-1 div.sk-estimator:hover {background-color: #d4ebff;}#sk-container-id-1 div.sk-parallel-item::after {content: \"\";width: 100%;border-bottom: 1px solid gray;flex-grow: 1;}#sk-container-id-1 div.sk-label:hover label.sk-toggleable__label {background-color: #d4ebff;}#sk-container-id-1 div.sk-serial::before {content: \"\";position: absolute;border-left: 1px solid gray;box-sizing: border-box;top: 0;bottom: 0;left: 50%;z-index: 0;}#sk-container-id-1 div.sk-serial {display: flex;flex-direction: column;align-items: center;background-color: white;padding-right: 0.2em;padding-left: 0.2em;position: relative;}#sk-container-id-1 div.sk-item {position: relative;z-index: 1;}#sk-container-id-1 div.sk-parallel {display: flex;align-items: stretch;justify-content: center;background-color: white;position: relative;}#sk-container-id-1 div.sk-item::before, #sk-container-id-1 div.sk-parallel-item::before {content: \"\";position: absolute;border-left: 1px solid gray;box-sizing: border-box;top: 0;bottom: 0;left: 50%;z-index: -1;}#sk-container-id-1 div.sk-parallel-item {display: flex;flex-direction: column;z-index: 1;position: relative;background-color: white;}#sk-container-id-1 div.sk-parallel-item:first-child::after {align-self: flex-end;width: 50%;}#sk-container-id-1 div.sk-parallel-item:last-child::after {align-self: flex-start;width: 50%;}#sk-container-id-1 div.sk-parallel-item:only-child::after {width: 0;}#sk-container-id-1 div.sk-dashed-wrapped {border: 1px dashed gray;margin: 0 0.4em 0.5em 0.4em;box-sizing: border-box;padding-bottom: 0.4em;background-color: white;}#sk-container-id-1 div.sk-label label {font-family: monospace;font-weight: bold;display: inline-block;line-height: 1.2em;}#sk-container-id-1 div.sk-label-container {text-align: center;}#sk-container-id-1 div.sk-container {/* jupyter's `normalize.less` sets `[hidden] { display: none; }` but bootstrap.min.css set `[hidden] { display: none !important; }` so we also need the `!important` here to be able to override the default hidden behavior on the sphinx rendered scikit-learn.org. See: https://github.com/scikit-learn/scikit-learn/issues/21755 */display: inline-block !important;position: relative;}#sk-container-id-1 div.sk-text-repr-fallback {display: none;}</style><div id=\"sk-container-id-1\" class=\"sk-top-container\"><div class=\"sk-text-repr-fallback\"><pre>Pipeline(steps=[(&#x27;scaler&#x27;, StandardScaler()),\n",
       "                (&#x27;model&#x27;, RandomForestClassifier())])</pre><b>In a Jupyter environment, please rerun this cell to show the HTML representation or trust the notebook. <br />On GitHub, the HTML representation is unable to render, please try loading this page with nbviewer.org.</b></div><div class=\"sk-container\" hidden><div class=\"sk-item sk-dashed-wrapped\"><div class=\"sk-label-container\"><div class=\"sk-label sk-toggleable\"><input class=\"sk-toggleable__control sk-hidden--visually\" id=\"sk-estimator-id-1\" type=\"checkbox\" ><label for=\"sk-estimator-id-1\" class=\"sk-toggleable__label sk-toggleable__label-arrow\">Pipeline</label><div class=\"sk-toggleable__content\"><pre>Pipeline(steps=[(&#x27;scaler&#x27;, StandardScaler()),\n",
       "                (&#x27;model&#x27;, RandomForestClassifier())])</pre></div></div></div><div class=\"sk-serial\"><div class=\"sk-item\"><div class=\"sk-estimator sk-toggleable\"><input class=\"sk-toggleable__control sk-hidden--visually\" id=\"sk-estimator-id-2\" type=\"checkbox\" ><label for=\"sk-estimator-id-2\" class=\"sk-toggleable__label sk-toggleable__label-arrow\">StandardScaler</label><div class=\"sk-toggleable__content\"><pre>StandardScaler()</pre></div></div></div><div class=\"sk-item\"><div class=\"sk-estimator sk-toggleable\"><input class=\"sk-toggleable__control sk-hidden--visually\" id=\"sk-estimator-id-3\" type=\"checkbox\" ><label for=\"sk-estimator-id-3\" class=\"sk-toggleable__label sk-toggleable__label-arrow\">RandomForestClassifier</label><div class=\"sk-toggleable__content\"><pre>RandomForestClassifier()</pre></div></div></div></div></div></div></div>"
      ],
      "text/plain": [
       "Pipeline(steps=[('scaler', StandardScaler()),\n",
       "                ('model', RandomForestClassifier())])"
      ]
     },
     "execution_count": 15,
     "metadata": {},
     "output_type": "execute_result"
    }
   ],
   "source": [
    "model.fit(X_train, y_train)"
   ]
  },
  {
   "cell_type": "code",
   "execution_count": 16,
   "id": "6b64fb17",
   "metadata": {
    "execution": {
     "iopub.execute_input": "2025-02-06T14:14:40.277657Z",
     "iopub.status.busy": "2025-02-06T14:14:40.277276Z",
     "iopub.status.idle": "2025-02-06T14:14:40.294631Z",
     "shell.execute_reply": "2025-02-06T14:14:40.293220Z"
    },
    "papermill": {
     "duration": 0.02802,
     "end_time": "2025-02-06T14:14:40.296676",
     "exception": false,
     "start_time": "2025-02-06T14:14:40.268656",
     "status": "completed"
    },
    "tags": []
   },
   "outputs": [],
   "source": [
    "y_pred = model.predict(X_test)"
   ]
  },
  {
   "cell_type": "markdown",
   "id": "4cf46abb",
   "metadata": {
    "papermill": {
     "duration": 0.011912,
     "end_time": "2025-02-06T14:14:40.317036",
     "exception": false,
     "start_time": "2025-02-06T14:14:40.305124",
     "status": "completed"
    },
    "tags": []
   },
   "source": [
    "# <span style=\"font-weight: bold; font-style: italic; color: green; text-shadow: 2px 2px 4px #000000;\">Model Performance Evaluation</span>\n"
   ]
  },
  {
   "cell_type": "code",
   "execution_count": 17,
   "id": "f65a0182",
   "metadata": {
    "execution": {
     "iopub.execute_input": "2025-02-06T14:14:40.338282Z",
     "iopub.status.busy": "2025-02-06T14:14:40.337703Z",
     "iopub.status.idle": "2025-02-06T14:14:40.355450Z",
     "shell.execute_reply": "2025-02-06T14:14:40.354000Z"
    },
    "papermill": {
     "duration": 0.032354,
     "end_time": "2025-02-06T14:14:40.357985",
     "exception": false,
     "start_time": "2025-02-06T14:14:40.325631",
     "status": "completed"
    },
    "tags": []
   },
   "outputs": [],
   "source": [
    "acc = accuracy_score(y_test, y_pred)\n",
    "creport = classification_report(y_test, y_pred)\n",
    "cm = confusion_matrix(y_test, y_pred)"
   ]
  },
  {
   "cell_type": "code",
   "execution_count": 18,
   "id": "ae0cd14d",
   "metadata": {
    "execution": {
     "iopub.execute_input": "2025-02-06T14:14:40.379356Z",
     "iopub.status.busy": "2025-02-06T14:14:40.378971Z",
     "iopub.status.idle": "2025-02-06T14:14:40.384620Z",
     "shell.execute_reply": "2025-02-06T14:14:40.383329Z"
    },
    "papermill": {
     "duration": 0.015842,
     "end_time": "2025-02-06T14:14:40.386443",
     "exception": false,
     "start_time": "2025-02-06T14:14:40.370601",
     "status": "completed"
    },
    "tags": []
   },
   "outputs": [
    {
     "name": "stdout",
     "output_type": "stream",
     "text": [
      "Deqiqlik:\n",
      "95%\n",
      "Tesnifat Hesabati:\n",
      "              precision    recall  f1-score   support\n",
      "\n",
      "           0       0.90      0.90      0.90        10\n",
      "           1       0.97      0.97      0.97        29\n",
      "\n",
      "    accuracy                           0.95        39\n",
      "   macro avg       0.93      0.93      0.93        39\n",
      "weighted avg       0.95      0.95      0.95        39\n",
      "\n"
     ]
    }
   ],
   "source": [
    "print(f'Deqiqlik:\\n{acc*100:.0f}%\\nTesnifat Hesabati:\\n{creport}')"
   ]
  },
  {
   "cell_type": "code",
   "execution_count": 19,
   "id": "24e322c4",
   "metadata": {
    "execution": {
     "iopub.execute_input": "2025-02-06T14:14:40.402324Z",
     "iopub.status.busy": "2025-02-06T14:14:40.401927Z",
     "iopub.status.idle": "2025-02-06T14:14:40.645836Z",
     "shell.execute_reply": "2025-02-06T14:14:40.644677Z"
    },
    "papermill": {
     "duration": 0.253998,
     "end_time": "2025-02-06T14:14:40.647721",
     "exception": false,
     "start_time": "2025-02-06T14:14:40.393723",
     "status": "completed"
    },
    "tags": []
   },
   "outputs": [
    {
     "data": {
      "image/png": "[encoded data removed]",
      "text/plain": [
       "<Figure size 800x600 with 2 Axes>"
      ]
     },
     "metadata": {},
     "output_type": "display_data"
    }
   ],
   "source": [
    "plt.figure(figsize=(8,6))\n",
    "sns.heatmap(cm, annot=True, fmt='d', cmap='Blues')\n",
    "plt.show()"
   ]
  },
  {
   "cell_type": "markdown",
   "id": "af2772a2",
   "metadata": {
    "papermill": {
     "duration": 0.00805,
     "end_time": "2025-02-06T14:14:40.663685",
     "exception": false,
     "start_time": "2025-02-06T14:14:40.655635",
     "status": "completed"
    },
    "tags": []
   },
   "source": [
    "# <span style=\"font-weight: bold; font-style: italic; color: green; text-shadow: 2px 2px 4px #000000;\">Summary</span>"
   ]
  },
  {
   "cell_type": "markdown",
   "id": "aa93fc47",
   "metadata": {
    "papermill": {
     "duration": 0.006895,
     "end_time": "2025-02-06T14:14:40.678929",
     "exception": false,
     "start_time": "2025-02-06T14:14:40.672034",
     "status": "completed"
    },
    "tags": []
   },
   "source": [
    "### 1. **Exploratory Data Analysis**\n",
    "   - The dataset is loaded from the `parkinsons.data` file.\n",
    "   - The `data.info()` and `data.describe()` methods are used to inspect the general characteristics of the data (e.g., data types and basic statistics).\n",
    "   - A boxplot is generated using `sns.boxplot()` to visualize outliers in the data.\n",
    "\n",
    "### 2. **Data Preparation**\n",
    "   - The `vectorizer()` function uses `TfidfVectorizer` to convert text data into numerical form. It applies this transformation to any column with the datatype 'object'.\n",
    "   - The `normalizer()` function, although commented out, is designed to normalize the data using the interquartile range method (IQR).\n",
    "\n",
    "### 3. **Model Building**\n",
    "   - Features (`X`) and target labels (`y`) are separated from the data, where the target variable is `status`.\n",
    "   - The dataset is split into training and test sets using `train_test_split()`.\n",
    "   - A machine learning pipeline is created with a `StandardScaler` for feature scaling and a `RandomForestClassifier` for classification.\n",
    "   - The model is trained on the training data and used to make predictions on the test data.\n",
    "   - The accuracy score, classification report, and confusion matrix are printed to evaluate the model’s performance.\n",
    "   - A heatmap of the confusion matrix is visualized using `sns.heatmap()`.\n"
   ]
  },
  {
   "cell_type": "code",
   "execution_count": null,
   "id": "cca06fbe",
   "metadata": {
    "papermill": {
     "duration": 0.006987,
     "end_time": "2025-02-06T14:14:40.693202",
     "exception": false,
     "start_time": "2025-02-06T14:14:40.686215",
     "status": "completed"
    },
    "tags": []
   },
   "outputs": [],
   "source": []
  }
 ],
 "metadata": {
  "kaggle": {
   "accelerator": "none",
   "dataSources": [
    {
     "datasetId": 817523,
     "sourceId": 1399417,
     "sourceType": "datasetVersion"
    }
   ],
   "dockerImageVersionId": 30839,
   "isGpuEnabled": false,
   "isInternetEnabled": true,
   "language": "python",
   "sourceType": "notebook"
  },
  "kernelspec": {
   "display_name": "Python 3",
   "language": "python",
   "name": "python3"
  },
  "language_info": {
   "codemirror_mode": {
    "name": "ipython",
    "version": 3
   },
   "file_extension": ".py",
   "mimetype": "text/x-python",
   "name": "python",
   "nbconvert_exporter": "python",
   "pygments_lexer": "ipython3",
   "version": "3.10.12"
  },
  "papermill": {
   "default_parameters": {},
   "duration": 8.8533,
   "end_time": "2025-02-06T14:14:41.522302",
   "environment_variables": {},
   "exception": null,
   "input_path": "__notebook__.ipynb",
   "output_path": "__notebook__.ipynb",
   "parameters": {},
   "start_time": "2025-02-06T14:14:32.669002",
   "version": "2.6.0"
  }
 },
 "nbformat": 4,
 "nbformat_minor": 5
}
